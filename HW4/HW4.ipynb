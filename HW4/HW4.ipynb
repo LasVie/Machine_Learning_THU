{
 "cells": [
  {
   "cell_type": "code",
   "execution_count": 1,
   "id": "7c833b6b",
   "metadata": {},
   "outputs": [],
   "source": [
    "import pandas as pd\n",
    "from sklearn.model_selection import train_test_split, cross_val_score\n",
    "from sklearn.svm import SVC\n",
    "from sklearn.metrics import accuracy_score"
   ]
  },
  {
   "cell_type": "code",
   "execution_count": 2,
   "id": "940138d3",
   "metadata": {},
   "outputs": [],
   "source": [
    "icu_data = pd.read_csv(\"train1_icu_data.csv\")\n",
    "icu_labels = pd.read_csv(\"train1_icu_label.csv\").values.ravel()\n",
    "\n",
    "icu_test_new = pd.read_csv(\"test1_icu_data.csv\")\n",
    "icu_testL_new = pd.read_csv(\"test1_icu_label.csv\").values.ravel()"
   ]
  },
  {
   "cell_type": "code",
   "execution_count": 4,
   "id": "ce8ef0d0",
   "metadata": {},
   "outputs": [
    {
     "name": "stdout",
     "output_type": "stream",
     "text": [
      "Kernel: Linear, Parameters: {'C': 1}\n",
      "Training Error: 0.2010\n",
      "Cross-Validation Error: 0.2270\n",
      "Test Error: 0.2133\n",
      "\n",
      "Kernel: Linear, Parameters: {'C': 10}\n",
      "Training Error: 0.2103\n",
      "Cross-Validation Error: 0.2460\n",
      "Test Error: 0.2288\n",
      "\n",
      "Kernel: Linear, Parameters: {'C': 100}\n",
      "Training Error: 0.2163\n",
      "Cross-Validation Error: 0.2490\n",
      "Test Error: 0.2242\n",
      "\n"
     ]
    }
   ],
   "source": [
    "linear_params = [{'C': 1}, {'C': 10}, {'C': 100}]\n",
    "\n",
    "for params in linear_params:\n",
    "    clf = SVC(kernel='linear', **params, random_state=42)\n",
    "    X_train, X_cv, y_train, y_cv = train_test_split(icu_data, icu_labels, test_size=0.2, random_state=42)\n",
    "    clf.fit(X_train, y_train)\n",
    "    y_train_pred = clf.predict(X_train)\n",
    "    train_error = 1 - accuracy_score(y_train, y_train_pred)\n",
    "    cv_error = 1 - cross_val_score(clf, X_cv, y_cv, cv=5).mean()\n",
    "    y_test_pred = clf.predict(icu_test_new)\n",
    "    test_error = 1 - accuracy_score(icu_testL_new, y_test_pred)\n",
    "    print(f\"Kernel: Linear, Parameters: {params}\")\n",
    "    print(f\"Training Error: {train_error:.4f}\")\n",
    "    print(f\"Cross-Validation Error: {cv_error:.4f}\")\n",
    "    print(f\"Test Error: {test_error:.4f}\\n\")"
   ]
  },
  {
   "cell_type": "code",
   "execution_count": 6,
   "id": "86908888",
   "metadata": {},
   "outputs": [
    {
     "name": "stdout",
     "output_type": "stream",
     "text": [
      "Kernel: RBF, Parameters: {'C': 1, 'gamma': 0.001}\n",
      "Training Error: 0.0000\n",
      "Cross-Validation Error: 0.4880\n",
      "Test Error: 0.4895\n",
      "\n",
      "Kernel: RBF, Parameters: {'C': 10, 'gamma': 0.001}\n",
      "Training Error: 0.0000\n",
      "Cross-Validation Error: 0.4880\n",
      "Test Error: 0.4850\n",
      "\n",
      "Kernel: RBF, Parameters: {'C': 100, 'gamma': 0.01}\n",
      "Training Error: 0.0000\n",
      "Cross-Validation Error: 0.4880\n",
      "Test Error: 0.5014\n",
      "\n"
     ]
    }
   ],
   "source": [
    "rbf_params = [{'C': 1, 'gamma': 0.001}, {'C': 10, 'gamma': 0.001}, {'C': 100, 'gamma': 0.01}]\n",
    "\n",
    "for params in rbf_params:\n",
    "    clf = SVC(kernel='rbf', **params, random_state=42)\n",
    "    X_train, X_cv, y_train, y_cv = train_test_split(icu_data, icu_labels, test_size=0.2, random_state=42)\n",
    "    clf.fit(X_train, y_train)\n",
    "    y_train_pred = clf.predict(X_train)\n",
    "    train_error = 1 - accuracy_score(y_train, y_train_pred)\n",
    "    cv_error = 1 - cross_val_score(clf, X_cv, y_cv, cv=5).mean()\n",
    "    y_test_pred = clf.predict(icu_test_new)\n",
    "    test_error = 1 - accuracy_score(icu_testL_new, y_test_pred)\n",
    "    print(f\"Kernel: RBF, Parameters: {params}\")\n",
    "    print(f\"Training Error: {train_error:.4f}\")\n",
    "    print(f\"Cross-Validation Error: {cv_error:.4f}\")\n",
    "    print(f\"Test Error: {test_error:.4f}\\n\")"
   ]
  },
  {
   "cell_type": "code",
   "execution_count": 8,
   "id": "b802840b",
   "metadata": {},
   "outputs": [
    {
     "name": "stdout",
     "output_type": "stream",
     "text": [
      "Kernel: Polynomial, Parameters: {'C': 1, 'degree': 3}\n",
      "Training Error: 0.2770\n",
      "Cross-Validation Error: 0.3250\n",
      "Test Error: 0.2862\n",
      "\n",
      "Kernel: Polynomial, Parameters: {'C': 1, 'degree': 5}\n",
      "Training Error: 0.2887\n",
      "Cross-Validation Error: 0.3570\n",
      "Test Error: 0.2990\n",
      "\n",
      "Kernel: Polynomial, Parameters: {'C': 10, 'degree': 3}\n",
      "Training Error: 0.2362\n",
      "Cross-Validation Error: 0.2700\n",
      "Test Error: 0.2534\n",
      "\n"
     ]
    }
   ],
   "source": [
    "poly_params = [{'C': 1, 'degree': 3}, {'C': 1, 'degree': 5}, {'C': 10, 'degree': 3}]\n",
    "\n",
    "for params in poly_params:\n",
    "    clf = SVC(kernel='poly', **params, random_state=42)\n",
    "    X_train, X_cv, y_train, y_cv = train_test_split(icu_data, icu_labels, test_size=0.2, random_state=42)\n",
    "    clf.fit(X_train, y_train)\n",
    "    y_train_pred = clf.predict(X_train)\n",
    "    train_error = 1 - accuracy_score(y_train, y_train_pred)\n",
    "    cv_error = 1 - cross_val_score(clf, X_cv, y_cv, cv=5).mean()\n",
    "    y_test_pred = clf.predict(icu_test_new)\n",
    "    test_error = 1 - accuracy_score(icu_testL_new, y_test_pred)\n",
    "    print(f\"Kernel: Polynomial, Parameters: {params}\")\n",
    "    print(f\"Training Error: {train_error:.4f}\")\n",
    "    print(f\"Cross-Validation Error: {cv_error:.4f}\")\n",
    "    print(f\"Test Error: {test_error:.4f}\\n\")"
   ]
  },
  {
   "cell_type": "code",
   "execution_count": null,
   "id": "7bbaffec",
   "metadata": {},
   "outputs": [],
   "source": []
  }
 ],
 "metadata": {
  "kernelspec": {
   "display_name": "Python 3 (ipykernel)",
   "language": "python",
   "name": "python3"
  },
  "language_info": {
   "codemirror_mode": {
    "name": "ipython",
    "version": 3
   },
   "file_extension": ".py",
   "mimetype": "text/x-python",
   "name": "python",
   "nbconvert_exporter": "python",
   "pygments_lexer": "ipython3",
   "version": "3.9.7"
  }
 },
 "nbformat": 4,
 "nbformat_minor": 5
}
